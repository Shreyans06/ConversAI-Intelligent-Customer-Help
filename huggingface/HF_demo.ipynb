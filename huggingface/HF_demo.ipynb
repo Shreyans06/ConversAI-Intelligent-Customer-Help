{
 "cells": [
  {
   "cell_type": "code",
   "execution_count": 1,
   "metadata": {},
   "outputs": [],
   "source": [
    "from langchain_community.document_loaders import PyPDFLoader\n",
    "from langchain_community.document_loaders import PyPDFDirectoryLoader\n",
    "from langchain.text_splitter import RecursiveCharacterTextSplitter\n",
    "from langchain_community.vectorstores import FAISS\n",
    "\n",
    "from langchain_community.embeddings import HuggingFaceBgeEmbeddings\n",
    "from langchain.prompts import PromptTemplate\n",
    "\n",
    "from langchain.chains import RetrievalQA"
   ]
  },
  {
   "cell_type": "code",
   "execution_count": 2,
   "metadata": {},
   "outputs": [
    {
     "data": {
      "text/plain": [
       "Document(metadata={'source': 'census/acsbr-017.pdf', 'page': 0}, page_content='KEY DEFINITIONS\\nHousehold income: Includes income of the \\nhouseholder and all other people 15 years and older in the household, whether or not they are related to the householder.\\nMedian: The point that divides the household \\nincome distribution into halves, one half with income above the median and the other with income below the median. The median is based on the income distribution of all households, including those with no income.\\nGini index: A summary measure of income \\ninequality. The Gini index varies from 0 to 1, with 0 indicating perfect equality, where there is a proportional distribution of income. A Gini index of 1 indicates perfect inequality, where one household has all the income.Household Income in States and \\nMetropolitan Areas: 2022\\nAmerican  Community S urvey  Briefs\\nBy Kirby G. Posey\\nACSBR-017\\nDecember 2023\\nINTRODUCTION\\nThis brief presents statistics on median household')"
      ]
     },
     "execution_count": 2,
     "metadata": {},
     "output_type": "execute_result"
    }
   ],
   "source": [
    "from typing import final\n",
    "\n",
    "\n",
    "loader = PyPDFDirectoryLoader(\"./census\")\n",
    "documents = loader.load()\n",
    "text_splitter = RecursiveCharacterTextSplitter(chunk_size = 1000 , chunk_overlap = 200)\n",
    "final_docs = text_splitter.split_documents(documents)\n",
    "final_docs[0]"
   ]
  },
  {
   "cell_type": "code",
   "execution_count": 3,
   "metadata": {},
   "outputs": [
    {
     "data": {
      "text/plain": [
       "316"
      ]
     },
     "execution_count": 3,
     "metadata": {},
     "output_type": "execute_result"
    }
   ],
   "source": [
    "len(final_docs)"
   ]
  },
  {
   "cell_type": "code",
   "execution_count": 5,
   "metadata": {},
   "outputs": [],
   "source": [
    "hF_embeddings = HuggingFaceBgeEmbeddings(model_name = \"BAAI/bge-small-en-v1.5\", \n",
    "                                         model_kwargs={\"device\": \"cpu\"}, \n",
    "                                         encode_kwargs={'normalize_embeddings' : True})"
   ]
  },
  {
   "cell_type": "code",
   "execution_count": 6,
   "metadata": {},
   "outputs": [
    {
     "data": {
      "text/plain": [
       "(384,)"
      ]
     },
     "execution_count": 6,
     "metadata": {},
     "output_type": "execute_result"
    }
   ],
   "source": [
    "import numpy as np\n",
    "np.array(hF_embeddings.embed_query(final_docs[0].page_content)).shape"
   ]
  },
  {
   "cell_type": "code",
   "execution_count": 7,
   "metadata": {},
   "outputs": [],
   "source": [
    "vector_stores = FAISS.from_documents(final_docs[:120] , hF_embeddings)"
   ]
  },
  {
   "cell_type": "code",
   "execution_count": 8,
   "metadata": {},
   "outputs": [
    {
     "name": "stdout",
     "output_type": "stream",
     "text": [
      "detailed estimates of income and \n",
      "to measure change in national-\n",
      "level estimates. The CPS ASEC \n",
      "is the official source of national \n",
      "poverty estimates. For more infor -\n",
      "mation from the CPS ASEC about \n",
      "national income estimates, refer to \n",
      "the report “ Income in the United \n",
      "States: 2022 .”\n",
      "For information on income esti -\n",
      "mates from the ACS and how they \n",
      "differ from those based on the \n",
      "CPS ASEC, refer to “ Fact Sheet: \n",
      "Differences Between the American \n",
      "Community Survey and the Annual \n",
      "Social and Economic Supplement \n",
      "to the Current Population Survey  \n",
      "(CPS ASEC) .”\n",
      "WHAT IS THE AMERICAN COMMUNITY SURVEY?\n",
      "The American Community Survey (ACS) is a nationwide survey designed to provide reliable and timely \n",
      "demographic, social, economic, and housing data for the nation, states, congressional districts, counties, \n",
      "places, and other localities every year. It has an annual sample size of about 3.5 million addresses across\n"
     ]
    }
   ],
   "source": [
    "query = \"What is health insurance coverage?\"\n",
    "relevant_docs = vector_stores.similarity_search(query)\n",
    "print(relevant_docs[0].page_content)"
   ]
  },
  {
   "cell_type": "code",
   "execution_count": 9,
   "metadata": {},
   "outputs": [
    {
     "name": "stdout",
     "output_type": "stream",
     "text": [
      "tags=['FAISS', 'HuggingFaceBgeEmbeddings'] vectorstore=<langchain_community.vectorstores.faiss.FAISS object at 0x79a75c73cd70> search_kwargs={'k': 3}\n"
     ]
    }
   ],
   "source": [
    "retriever = vector_stores.as_retriever(search_type = \"similarity\" , search_kwargs = {\"k\" : 3})\n",
    "print(retriever)"
   ]
  },
  {
   "cell_type": "code",
   "execution_count": 11,
   "metadata": {},
   "outputs": [
    {
     "name": "stderr",
     "output_type": "stream",
     "text": [
      "Python-dotenv could not parse statement starting at line 1\n",
      "Python-dotenv could not parse statement starting at line 7\n"
     ]
    }
   ],
   "source": [
    "import os\n",
    "from dotenv import load_dotenv\n",
    "load_dotenv()\n",
    "os.environ['HUGGINGFACEHUB_API_TOKEN'] = os.getenv(\"HUGGINGFACEHUB_API_KEY\")"
   ]
  },
  {
   "cell_type": "code",
   "execution_count": 12,
   "metadata": {},
   "outputs": [
    {
     "data": {
      "text/plain": [
       "'What is health insurance coverage?\\n\\nHealth insurance is a type of insurance coverage that covers the cost of an insured individual’s medical and surgical expenses. Depending on the type of health insurance coverage, either the insured pays costs out-of-pocket and is then reimbursed, or the insurer makes payments directly to the provider.\\n\\nHealth insurance is usually provided by a government-sponsored social insurance program, a private commercial insurer, or an employer.\\n\\nWhat is'"
      ]
     },
     "execution_count": 12,
     "metadata": {},
     "output_type": "execute_result"
    }
   ],
   "source": [
    "from langchain_community.llms import HuggingFaceHub\n",
    "\n",
    "hf=HuggingFaceHub(\n",
    "    repo_id=\"mistralai/Mistral-7B-v0.1\",\n",
    "    model_kwargs={\"temperature\":0.1,\"max_length\":500}\n",
    ")\n",
    "\n",
    "hf.invoke(query)"
   ]
  },
  {
   "cell_type": "code",
   "execution_count": 20,
   "metadata": {},
   "outputs": [],
   "source": [
    "prompt_template = \"\"\"Use the given context to answer the questions. Provide answers only based in the context\n",
    "{context}\n",
    "Questions : {question}\n",
    "Answers:\n",
    "\"\"\""
   ]
  },
  {
   "cell_type": "code",
   "execution_count": 22,
   "metadata": {},
   "outputs": [],
   "source": [
    "prompt = PromptTemplate(template = prompt_template , input_variables = [\"context\" , \"question\"])"
   ]
  },
  {
   "cell_type": "code",
   "execution_count": 23,
   "metadata": {},
   "outputs": [],
   "source": [
    "retrievalQA = RetrievalQA.from_chain_type(\n",
    "    llm = hf,\n",
    "    chain_type = \"stuff\",\n",
    "    retriever = retriever,\n",
    "    return_source_documents = True,\n",
    "    chain_type_kwargs = {\"prompt\" : prompt}\n",
    ")"
   ]
  },
  {
   "cell_type": "code",
   "execution_count": 24,
   "metadata": {},
   "outputs": [],
   "source": [
    "query = \"\"\" DIfferences in the uninsured rate by state in 2022\"\"\""
   ]
  },
  {
   "cell_type": "code",
   "execution_count": 26,
   "metadata": {},
   "outputs": [
    {
     "name": "stdout",
     "output_type": "stream",
     "text": [
      "Use the given context to answer the questions. Provide answers only based in the context\n",
      "as being “near poverty” in this \n",
      "brief.\n",
      "Table 1 displays the percentage of \n",
      "people in near poverty in 2022 for \n",
      "the nation, states, the District of \n",
      "Columbia, and Puerto Rico (refer \n",
      "to Appendix Table 3 for 2021 esti -\n",
      "mates). In 2022, the percentage of \n",
      "people in the United States in near \n",
      "poverty was 3.7 percent, not statis -\n",
      "tically different from 2021.\n",
      "Among the states, the percentage \n",
      "of individuals in near poverty in \n",
      "2022 ranged from 2.4 percent to \n",
      "17 In 2022, the percentages of people with \n",
      "an income-to-poverty ratio below 50 percent \n",
      "in the Minneapolis (4.1 percent), Washington,  \n",
      "DC (4.2 percent), and Denver (4.3 percent) \n",
      "MSAs were not statistically different.\n",
      "18 In 2022, the percentages of people \n",
      "with an income-to-poverty ratio below 50 \n",
      "percent in the Houston (6.8 percent), Detroit \n",
      "(6.7 percent), New York (6.4 percent), Los \n",
      "Angeles (6.3 percent), and San Antonio \n",
      "(6.2 percent) MSAs were not statistically \n",
      "different.5.7 percent.19 States with among\n",
      "\n",
      "U.S. Census Bureau  3\n",
      "Utah had poverty rates in the \n",
      "lowest poverty map category, less than 10.0 percent in 2022.\n",
      "9 \n",
      "Alabama, Arkansas, Kentucky, Louisiana, Mississippi, New Mexico, Oklahoma, West Virginia, and Puerto Rico had 2022 poverty \n",
      "rates of 15.0 percent or higher \n",
      "(Figure 2).\n",
      "In 2022, no states had a significant \n",
      "increase in poverty, whereas nine \n",
      "9 The 2022 poverty rates for Washington \n",
      "(10.0 percent), Hawaii (10.2 percent), \n",
      "Vermont (10.4 percent), and Rhode Island \n",
      "(10.8 percent) were not statistically different \n",
      "from 10.0 percent.states and the District of Columbia \n",
      "showed decreases in poverty rates compared to 2021 (Figure 3). Forty-one states did not signifi-cantly change.\n",
      "While the overall national 2022 \n",
      "poverty rate was 12.6 percent, there was variability among census regions.\n",
      "10 Eight out of the \n",
      "nine states in the Northeast had \n",
      "10 Census regions are groupings of states \n",
      "and the District of Columbia that subdivide \n",
      "the United States for the presentation of\n",
      "\n",
      "For more information, refer to <www.census.gov/programs-surveys/\n",
      "metro-micro/about/omb-standards.html>.\n",
      "² The U.S. Census Bureau reviewed this data product for \n",
      "unauthorized disclosure of confidential information and has \n",
      "approved the disclosure avoidance practices applied to this release. \n",
      "CBDRB-FY23-0175. All comparative statements have undergone \n",
      "statistical testing and are statistically significant at the 90 percent \n",
      "confidence level, unless otherwise noted.geographic areas, providing a picture of the depth of \n",
      "poverty and those near or just above their poverty threshold.\n",
      "3\n",
      "HIGHLIGHTS\n",
      "• In 2022, the ACS national poverty rate was 12.6 per-cent, a decrease from 12.8 percent in 2021.\n",
      "4\n",
      "• The poverty rate decreased in 9 states and the District of Columbia between 2021 and 2022. No state had a poverty rate increase from 2021 to 2022. Poverty rates did not change in 41 states and Puerto Rico. Poverty rates in states and the District \n",
      "of Columbia ranged from 7.2 percent to 19.1 percent.\n",
      "Questions :  DIfferences in the uninsured rate by state in 2022\n",
      "Answers:\n",
      "\n",
      "1. The uninsured rate in 2022 was highest in Texas (16.2 percent) and lowest in Massachusetts (2.6 percent).\n",
      "2. The uninsured rate in 2022 was highest in the South (10.6 percent) and lowest in the Northeast (5.5 percent).\n",
      "3. The uninsured rate in 2022 was highest among people aged 18 to 64 (\n"
     ]
    }
   ],
   "source": [
    "result = retrievalQA.invoke(query)\n",
    "print(result['result'])"
   ]
  }
 ],
 "metadata": {
  "kernelspec": {
   "display_name": "venv",
   "language": "python",
   "name": "python3"
  },
  "language_info": {
   "codemirror_mode": {
    "name": "ipython",
    "version": 3
   },
   "file_extension": ".py",
   "mimetype": "text/x-python",
   "name": "python",
   "nbconvert_exporter": "python",
   "pygments_lexer": "ipython3",
   "version": "3.12.3"
  }
 },
 "nbformat": 4,
 "nbformat_minor": 2
}
